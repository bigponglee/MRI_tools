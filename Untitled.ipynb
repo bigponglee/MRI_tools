{
 "cells": [
  {
   "cell_type": "code",
   "execution_count": 1,
   "metadata": {
    "collapsed": true
   },
   "outputs": [],
   "source": [
    "import torch\n",
    "import torch.nn as nn\n",
    "import torch.nn.functional as F\n",
    "import torch.optim as optim\n",
    "import torchvision\n",
    "from torchvision import datasets, transforms\n",
    "from torch.autograd import Variable\n",
    "import matplotlib.pyplot as plt\n",
    "import numpy as np\n",
    "\n"
   ]
  },
  {
   "cell_type": "code",
   "execution_count": 48,
   "metadata": {
    "collapsed": true
   },
   "outputs": [],
   "source": [
    "def CNN3d(i_chan,\n",
    "          o_chan,\n",
    "          n_layers = 1,\n",
    "          n_chan = 64,\n",
    "          kernel_size = 3,\n",
    "          pad = 1,\n",
    "          stride = 1,\n",
    "          dilation = 1,\n",
    "          bias = True,\n",
    "          bn = True,\n",
    "          activation = nn.Tanh()\n",
    "          ):\n",
    "    # first layer\n",
    "    cnn3d = [];\n",
    "    if n_layers == 1:\n",
    "        layer_1 = nn.Conv3d(i_chan,o_chan,kernel_size = kernel_size,stride = stride,\n",
    "                      bias = bias, dilation = dilation, padding = pad)\n",
    "        cnn3d.append(layer_1)\n",
    "        if bn :\n",
    "            cnn3d.append(nn.BatchNorm3d(o_chan))\n",
    "        cnn3d.append(activation)\n",
    "        return nn.Sequential(*cnn3d)\n",
    "    else:\n",
    "        layer_1 = nn.Conv3d(i_chan,n_chan,kernel_size = kernel_size,stride = stride,\n",
    "                      bias = bias, dilation = dilation, padding = pad)\n",
    "        cnn3d.append(layer_1)\n",
    "        if bn :\n",
    "            cnn3d.append(nn.BatchNorm3d(n_chan))\n",
    "        cnn3d.append(activation)\n",
    "            \n",
    "    # mid layers\n",
    "    layer_2 = nn.Conv3d(n_chan,n_chan,kernel_size = kernel_size,stride = stride,\n",
    "                      bias = bias, dilation = dilation, padding = pad)\n",
    "    for _ in range(n_layers-2):\n",
    "        cnn3d.append(layer_2)\n",
    "        if bn :\n",
    "            cnn3d.append(nn.BatchNorm3d(n_chan))\n",
    "        cnn3d.append(activation)\n",
    "            \n",
    "    # final layer\n",
    "    layer_3 = nn.Conv3d(n_chan,o_chan,kernel_size = kernel_size,stride = stride,\n",
    "                      bias = bias, dilation = dilation, padding = pad)\n",
    "    cnn3d.append(layer_3)\n",
    "    if bn :\n",
    "        cnn3d.append(nn.BatchNorm3d(o_chan))\n",
    "    cnn3d.append(activation)    \n",
    "    \n",
    "    return nn.Sequential(*cnn3d)\n",
    "\n",
    "\n"
   ]
  },
  {
   "cell_type": "code",
   "execution_count": 6,
   "metadata": {
    "collapsed": true,
    "scrolled": true
   },
   "outputs": [],
   "source": [
    "class Net(nn.Module):\n",
    "    def __init__(self):\n",
    "        super(Net, self).__init__()\n",
    "        self.conv1 = nn.Conv3d(1,10,5,padding=2)\n",
    "        self.conv2 = nn.Conv3d(10,30,5,padding=2)\n",
    "        self.fc = nn.Linear(10*10*10,10*10*10)\n",
    "        \n",
    "    def forward(self, x):\n",
    "        out1 = F.tanh(nn.BatchNorm3d(self.conv1(x)))\n",
    "        out2 = F.tanhshrink(nn.BatchNorm3d(self.conv1(x)))\n",
    "        out = out1 + out2\n",
    "        out = F.tanhshrink(self.conv2(out))\n",
    "        out = out.view(-1,10*10*10)\n",
    "        out = self.fc(out)\n",
    "        return out"
   ]
  },
  {
   "cell_type": "code",
   "execution_count": 7,
   "metadata": {
    "collapsed": false
   },
   "outputs": [],
   "source": [
    "m = Net()"
   ]
  },
  {
   "cell_type": "code",
   "execution_count": 8,
   "metadata": {
    "collapsed": false
   },
   "outputs": [
    {
     "data": {
      "text/plain": [
       "Net(\n",
       "  (conv1): Conv3d (1, 10, kernel_size=(5, 5, 5), stride=(1, 1, 1), padding=(2, 2, 2))\n",
       "  (conv2): Conv3d (10, 30, kernel_size=(5, 5, 5), stride=(1, 1, 1), padding=(2, 2, 2))\n",
       "  (fc): Linear(in_features=1000, out_features=1000)\n",
       ")"
      ]
     },
     "execution_count": 8,
     "metadata": {},
     "output_type": "execute_result"
    }
   ],
   "source": [
    "optimizer = optim.Adam(m.parameters(),lr=0.01)\n",
    "def train(epoch):\n",
    "    m.train()\n",
    "    for batch_idx in range(nbatch):\n",
    "        optimizer.zero_grad()\n",
    "        output = model(data)\n",
    "        loss = F.nll_loss(output, target)\n",
    "        optimizer.step()\n",
    "        if batch_idx%500 == 0:\n",
    "            print('Check point')\n",
    "            \n",
    "def test():\n",
    "    "
   ]
  },
  {
   "cell_type": "code",
   "execution_count": null,
   "metadata": {
    "collapsed": true
   },
   "outputs": [],
   "source": []
  }
 ],
 "metadata": {
  "anaconda-cloud": {},
  "kernelspec": {
   "display_name": "Python [default]",
   "language": "python",
   "name": "python3"
  },
  "language_info": {
   "codemirror_mode": {
    "name": "ipython",
    "version": 3
   },
   "file_extension": ".py",
   "mimetype": "text/x-python",
   "name": "python",
   "nbconvert_exporter": "python",
   "pygments_lexer": "ipython3",
   "version": "3.5.4"
  }
 },
 "nbformat": 4,
 "nbformat_minor": 2
}
