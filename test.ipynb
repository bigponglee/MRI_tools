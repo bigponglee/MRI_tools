{
 "cells": [
  {
   "cell_type": "code",
   "execution_count": 3,
   "metadata": {
    "collapsed": false
   },
   "outputs": [],
   "source": [
    "import numpy as np\n",
    "import pyfftw as pfft"
   ]
  },
  {
   "cell_type": "code",
   "execution_count": 4,
   "metadata": {
    "collapsed": false
   },
   "outputs": [],
   "source": [
    "from IO import cfl\n",
    "from FFT import fft\n",
    "from util import process_3d\n",
    "from util import phase_3d\n",
    "from scipy import sparse\n",
    "from scipy import optimize"
   ]
  },
  {
   "cell_type": "code",
   "execution_count": 3,
   "metadata": {
    "collapsed": false
   },
   "outputs": [],
   "source": [
    "I = cfl.readcfl('UTE_denoise')"
   ]
  },
  {
   "cell_type": "code",
   "execution_count": 36,
   "metadata": {
    "collapsed": false
   },
   "outputs": [
    {
     "name": "stdout",
     "output_type": "stream",
     "text": [
      "((1.5, 1.5), (1.5, 1.5), (1.5, 1.5)) ((0, 0), (1, 1), (2, 2))\n"
     ]
    }
   ],
   "source": [
    "a = np.array(np.ones([3,3,3]).shape)/2\n",
    "p = tuple(map(tuple,(np.stack([a,a],axis=1))))\n",
    "p_size = [0,1,2]\n",
    "p_size = tuple([(size,size) for size in p_size])\n",
    "print(p,p_size)\n"
   ]
  },
  {
   "cell_type": "code",
   "execution_count": 8,
   "metadata": {
    "collapsed": false
   },
   "outputs": [
    {
     "data": {
      "text/plain": [
       "array([ 1.+0.j,  4.+0.j,  3.+1.j])"
      ]
     },
     "execution_count": 8,
     "metadata": {},
     "output_type": "execute_result"
    }
   ],
   "source": [
    "A = np.diag([1,2,3+1j])\n",
    "b = np.array([1,2,1])\n",
    "\n",
    "def op1(v):\n",
    "    A = np.diag([1,2,3+1j])\n",
    "    return np.dot(A,v) \n",
    "A=sparse.linalg.LinearOperator((3,3),matvec=op1)\n",
    "A*b"
   ]
  },
  {
   "cell_type": "code",
   "execution_count": null,
   "metadata": {
    "collapsed": true
   },
   "outputs": [],
   "source": []
  }
 ],
 "metadata": {
  "anaconda-cloud": {},
  "kernelspec": {
   "display_name": "Python [conda root]",
   "language": "python",
   "name": "conda-root-py"
  },
  "language_info": {
   "codemirror_mode": {
    "name": "ipython",
    "version": 3
   },
   "file_extension": ".py",
   "mimetype": "text/x-python",
   "name": "python",
   "nbconvert_exporter": "python",
   "pygments_lexer": "ipython3",
   "version": "3.5.4"
  }
 },
 "nbformat": 4,
 "nbformat_minor": 1
}
